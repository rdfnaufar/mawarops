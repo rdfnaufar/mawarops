{
  "nbformat": 4,
  "nbformat_minor": 0,
  "metadata": {
    "colab": {
      "provenance": []
    },
    "kernelspec": {
      "name": "python3",
      "display_name": "Python 3"
    },
    "language_info": {
      "name": "python"
    }
  },
  "cells": [
    {
      "cell_type": "code",
      "execution_count": null,
      "metadata": {
        "id": "UaXAs_802fjx"
      },
      "outputs": [],
      "source": [
        "import re\n",
        "import requests\n",
        "from bs4 import BeautifulSoup\n",
        "import pandas as pd"
      ]
    },
    {
      "cell_type": "code",
      "source": [
        "# URL target (arXiv contoh)\n",
        "URL = \"https://arxiv.org/list/cs.LG/recent\"\n",
        "headers = {\"User-Agent\": \"Mozilla/5.0\"}\n",
        "\n",
        "# Request ke website\n",
        "response = requests.get(URL, headers=headers)\n",
        "if response.status_code != 200:\n",
        "    print(\"Failed to retrieve data\")\n",
        "    exit()"
      ],
      "metadata": {
        "id": "bNC2AMv62jYi"
      },
      "execution_count": null,
      "outputs": []
    },
    {
      "cell_type": "code",
      "source": [
        "# Parsing HTML dengan BeautifulSoup\n",
        "soup = BeautifulSoup(response.text, 'html.parser')\n",
        "\n",
        "# Menemukan semua judul penelitian\n",
        "titles = []\n",
        "authors = []\n",
        "\n",
        "# Scraping Judul\n",
        "for title in soup.find_all('div', class_='list-title mathjax'):\n",
        "    text = re.sub(r'(?i)^title[:\\-\\s]*', '', title.get_text(strip=True))  # Hapus 'Title:' di awal\n",
        "    titles.append(text)\n",
        "\n",
        "# Scraping Author\n",
        "for author in soup.find_all('div', class_='list-authors'):\n",
        "    author_text = author.get_text(strip=True).replace(\"Authors:\", \"\").strip()\n",
        "    authors.append(author_text)"
      ],
      "metadata": {
        "id": "rwLtUgPE2o0R"
      },
      "execution_count": null,
      "outputs": []
    },
    {
      "cell_type": "code",
      "source": [
        "# Simpan hasil ke CSV\n",
        "df = pd.DataFrame({'Original Title': titles, 'Authors': authors})\n",
        "df.to_csv('scraped_titles.csv', index=False, encoding='utf-8')\n",
        "\n",
        "print(\"Scraping dan pembersihan data selesai! File disimpan sebagai scraped_titles.csv\")"
      ],
      "metadata": {
        "colab": {
          "base_uri": "https://localhost:8080/"
        },
        "id": "QiU6mBaY2nra",
        "outputId": "5837193a-4c7f-4e53-ecc9-c850f92d6957"
      },
      "execution_count": null,
      "outputs": [
        {
          "output_type": "stream",
          "name": "stdout",
          "text": [
            "Scraping dan pembersihan data selesai! File disimpan sebagai scraped_titles.csv\n"
          ]
        }
      ]
    }
  ]
}